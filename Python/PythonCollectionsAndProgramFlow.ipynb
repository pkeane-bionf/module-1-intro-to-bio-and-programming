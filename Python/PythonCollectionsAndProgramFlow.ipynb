{
 "cells": [
  {
   "cell_type": "markdown",
   "metadata": {},
   "source": [
    "# Practical Activity: Collections, Conditionals and Loops\n",
    "\n",
    "This notebook is designed to reinforce the concepts introduced in Lesson 3 of Unit 2 of the Biology and Computation course. It will cover:\n",
    "\n",
    "* Lists\n",
    "* Dictionaries\n",
    "* Conditionals\n",
    "* Loops\n",
    "\n",
    "Please work through the material presented here and add code in to the cells as indicated. "
   ]
  },
  {
   "cell_type": "markdown",
   "metadata": {},
   "source": [
    "## Initial Setup\n",
    "\n",
    "Before you start working through the exercises below, please make sure you run the Python cell below that will set up everything you will need to check your answers."
   ]
  },
  {
   "cell_type": "code",
   "execution_count": null,
   "metadata": {},
   "outputs": [],
   "source": [
    "from unit_2_library import *"
   ]
  },
  {
   "cell_type": "markdown",
   "metadata": {},
   "source": [
    "## Lists\n",
    "\n",
    "To start using lists, let's begin by creating some. Can you:\n",
    "\n",
    "* Create an empty list called `mylist1`\n",
    "* Create a list called `mylist2` with the numbers from 0 to 9 in order in it\n",
    "* Create a **copy** of `mylist2` called `mylist3`\n",
    "* Change the '5' in `mylist3` to the string `'five'`\n",
    "* Create another list `mylist4` that consists of two consecutive copies of `mylist2`\n",
    "\n",
    "Run the cell after that to check your answers.\n",
    "\n",
    "### Important Info\n",
    "* To create a copy of a list, use the `list(...)` function, e.g.:\n",
    "```\n",
    "In [1]: mylist = [1, 2, 3, 4]\n",
    "In [2]: mylist_copy = list(mylist)\n",
    "```\n",
    "* Access elements in a list using the square brackets:\n",
    "```\n",
    "In [1]: mylist = [1, 2, 3, 4]\n",
    "In [2]: mylist[2]\n",
    "Out[2]: 3\n",
    "```\n",
    "* To create a new list consisting of multiple copies of a list, apply the operators `+` or `*`:\n",
    "```\n",
    "In [1]: mylist = [1, 2, 3, 4]\n",
    "In [2]: mylist * 2\n",
    "Out[2]: [1, 2, 3, 4, 1, 2, 3, 4]\n",
    "```"
   ]
  },
  {
   "cell_type": "code",
   "execution_count": null,
   "metadata": {},
   "outputs": [],
   "source": []
  },
  {
   "cell_type": "code",
   "execution_count": null,
   "metadata": {},
   "outputs": [],
   "source": [
    "check_answers_l2_ex1(globals())"
   ]
  },
  {
   "cell_type": "markdown",
   "metadata": {},
   "source": [
    "Now you've created some lists, we can start practising using slicing to access subsets of these lists. Try to complete the following tasks:\n",
    "\n",
    "* Create a list `sublist1` that is the first 5 elements of `mylist4`\n",
    "* Create a list `sublist2` that is the last 5 elements of `mylist4`\n",
    "* Create a list `sublist3` that doesn't include the first 2 and the last 2 elements of `mylist4`\n",
    "\n",
    "### Important Info\n",
    "* To pick out a subset of a `list`, use slicing to select entries from the first index, up to **but not including** the second index:\n",
    "```\n",
    "In [1]: mylist = [1, 2, 3, 4, 5, 6, 7, 8]\n",
    "In [2]: mylist[3:6]\n",
    "Out[2]: [4, 5, 6]\n",
    "```\n",
    "* Use negative indices to count from the end of a list:\n",
    "```\n",
    "In [1]: mylist = [1, 2, 3, 4, 5, 6, 7, 8]\n",
    "In [2]: mylist[-2]\n",
    "Out[2]: 7\n",
    "```\n"
   ]
  },
  {
   "cell_type": "code",
   "execution_count": null,
   "metadata": {},
   "outputs": [],
   "source": []
  },
  {
   "cell_type": "code",
   "execution_count": null,
   "metadata": {},
   "outputs": [],
   "source": [
    "check_answers_l2_ex2(globals())"
   ]
  },
  {
   "cell_type": "markdown",
   "metadata": {},
   "source": [
    "We can now have a look at some of the functions that the `list` type provides. Try to complete the following exercises:\n",
    "\n",
    "* Sort the `mylist4` list\n",
    "* Extend `sublist2` with the contents of `sublist1`\n",
    "* Reverse the elements in `sublist1`\n",
    "\n",
    "Refer to the material for which functions to use and how they work and if you go wrong, you may need to re-run the your definitions for `mylist4` and the sublists above to reset them!"
   ]
  },
  {
   "cell_type": "code",
   "execution_count": null,
   "metadata": {},
   "outputs": [],
   "source": []
  },
  {
   "cell_type": "code",
   "execution_count": null,
   "metadata": {},
   "outputs": [],
   "source": [
    "check_answers_l2_ex3(globals())"
   ]
  },
  {
   "cell_type": "markdown",
   "metadata": {},
   "source": [
    "Finally, we'll try something a bit more complex. As was mentioned in the material, lists can be useful to represent row and column or matrix data. Can you create a 'list of lists' variable called `mymat1` to represent the following 3x3 matrix:\n",
    "```\n",
    "1   2   3\n",
    "4   5   6\n",
    "7   8   9\n",
    "```\n",
    "\n",
    "If you're having trouble, just try extending the 2x2 version seen in the material!"
   ]
  },
  {
   "cell_type": "code",
   "execution_count": null,
   "metadata": {},
   "outputs": [],
   "source": []
  },
  {
   "cell_type": "code",
   "execution_count": null,
   "metadata": {},
   "outputs": [],
   "source": [
    "check_answers_l2_ex4(globals())"
   ]
  },
  {
   "cell_type": "markdown",
   "metadata": {},
   "source": [
    "## Dictionaries\n",
    "\n",
    "Now you've got some experience with lists, we'll start looking at dictionaries. Can you try the following:\n",
    "\n",
    "* Create an empty dictionary called `mydict1`\n",
    "* Create a dictionary called `mydict2` with elements `one -> 1` and `two -> 2` in it\n",
    "* Create a copy of `mydict2` called `mydict3`\n",
    "* Add an additional element to `mydict3`: `three -> 3`\n",
    "\n",
    "Run the cell after that to check your answers.\n",
    "\n",
    "### Important Info\n",
    "* To create a copy of a list, use the `dict(...)` function, e.g.:\n",
    "```\n",
    "In [1]: mydict = {\"a\":10}\n",
    "In [2]: mydict_copy = dict(mydict)\n",
    "```"
   ]
  },
  {
   "cell_type": "code",
   "execution_count": null,
   "metadata": {},
   "outputs": [],
   "source": []
  },
  {
   "cell_type": "code",
   "execution_count": null,
   "metadata": {},
   "outputs": [],
   "source": [
    "check_answers_l2_ex5(globals())"
   ]
  },
  {
   "cell_type": "markdown",
   "metadata": {},
   "source": [
    "## Conditionals\n",
    "\n",
    "We'll now start looking at using conditionals to have code make decisions. Not only will this introduce the `if..else` syntax, it will also give you some experience with indentation. \n",
    "\n",
    "In the cell below, please use conditionals to decide which variable `a, b, c` or `d` is the largest number and print this value. Note that there are several ways to do this so consider:\n",
    "\n",
    "* Writing code with nested conditionals, e.g.\n",
    "```\n",
    "if a > b:\n",
    "     if a > c:\n",
    "```\n",
    "\n",
    "* Using the logical operators to combine conditional checks. Note that you need to have a valid conditional statement after the operator. so this is **not valid**:\n",
    "```\n",
    "if a > b and c:\n",
    "```\n",
    "but this is:\n",
    "```\n",
    "if a > b and a > c:\n",
    "```\n",
    "\n",
    "* This is not the most efficient way of doing this exercise - see if you can solve the problem using lists instead! Note you only need the highest *value* not the variable name that was largest."
   ]
  },
  {
   "cell_type": "code",
   "execution_count": null,
   "metadata": {},
   "outputs": [],
   "source": [
    "a, b, c, d = conditional_values()\n",
    "\n",
    "################## ADD YOUR CODE UNDER THIS LINE ###################\n"
   ]
  },
  {
   "cell_type": "markdown",
   "metadata": {},
   "source": [
    "## Loops\n",
    "\n",
    "The final thing we're going to look at in this activity is loops. Referring back to the course material where necessary, can you complete the following exercises:\n",
    "\n",
    "* Write a loop that prints out each character of the `mystr` variable below\n",
    "* Write a loop that stores the values of the 7 times table from 0 to 70 in a list variable `seven_list`. The `range` function will be useful here!\n",
    "* Create another matrix variable, similar to `mymat1` variable, but this time use loops to create a 10x10 matrix and call it `mymat2`\n",
    "    - To help with this, you can use nested loops to create the two dimensional structure of the matrix\n",
    "    - Use the `range` function in both loops to go from 0 -> 9\n",
    "    - Create an empty list initially, then in the first loop add an empty list to it and finally in the inner loop append the value to this list, e.g. `mymat2[x].append(10 * x + y + 1)`\n",
    "    \n",
    "Note that for the last part, these stages are also included as comments in the cell below to help you structure your code. You should be aiming for ~1 line of code for each comment.\n",
    "    \n",
    "### Important Info\n",
    "* To loop over characters in a string, use a `for` loop:\n",
    "```\n",
    "for mychar in mystr:\n",
    "```\n",
    "* To loop over a sequence of numbers, combine the `for` loop with the `range` function, e.g:\n",
    "```\n",
    "for num in range(0, 10):\n",
    "```"
   ]
  },
  {
   "cell_type": "code",
   "execution_count": null,
   "metadata": {},
   "outputs": [],
   "source": [
    "mystr = \"a testing string\"\n",
    "\n",
    "################## ADD YOUR CODE UNDER THIS LINE ###################"
   ]
  },
  {
   "cell_type": "code",
   "execution_count": null,
   "metadata": {},
   "outputs": [],
   "source": [
    "################## USE THE FOLLOWING COMMENTS TO HELP WITH CREATING THE MYMAT2 VARIABLE ###################\n",
    "\n",
    "# create an empty list called 'mymat2'\n",
    "\n",
    "# Loop over the numbers 0 -> 9 (index x)\n",
    "\n",
    "    # Add an empty list to the mymat2 list\n",
    "    \n",
    "    # Loop over the numbers 0 -> 9 (index y)\n",
    "    \n",
    "        # Append the appropriate number to the list given by mymat2[x]"
   ]
  },
  {
   "cell_type": "code",
   "execution_count": null,
   "metadata": {},
   "outputs": [],
   "source": [
    "check_answers_l2_ex6(globals())"
   ]
  },
  {
   "cell_type": "markdown",
   "metadata": {},
   "source": [
    "Hopefully this activity has given you some good experience with collections, conditionals and loops in Python. As with all these coding concepts though, the more you practise the easier it will get!"
   ]
  }
 ],
 "metadata": {
  "kernelspec": {
   "display_name": "Python 3",
   "language": "python",
   "name": "python3"
  },
  "language_info": {
   "codemirror_mode": {
    "name": "ipython",
    "version": 3
   },
   "file_extension": ".py",
   "mimetype": "text/x-python",
   "name": "python",
   "nbconvert_exporter": "python",
   "pygments_lexer": "ipython3",
   "version": "3.8.2"
  }
 },
 "nbformat": 4,
 "nbformat_minor": 4
}
