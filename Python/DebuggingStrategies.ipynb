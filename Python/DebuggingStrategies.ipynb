{
 "cells": [
  {
   "cell_type": "markdown",
   "metadata": {},
   "source": [
    "# Practical Activity: Debugging Strategies\n",
    "\n",
    "This notebook is designed to reinforce the concepts introduced in Lesson 3 of Unit 3 of the Biology and Computation course. It's primary focus is to give you some experience with debugging code. There are a number of code examples supplied that have different types of error in them. The code will cover the folowing types of error:\n",
    "\n",
    "* Syntax Errors\n",
    "* Runtime Errors\n",
    "* Unexpected Behaviour\n",
    "\n",
    "Multiple errors of different types are in each block of code. Try to fix the code so that each cell produces the required output. Don't forget to read the errors that are being produced and use `print` statements to help determine where the problems are!"
   ]
  },
  {
   "cell_type": "markdown",
   "metadata": {},
   "source": [
    "## Finding the Largest Number\n",
    "\n",
    "The following code should find the largest number in the given list. Fix these so it prints out the correct answer!\n"
   ]
  },
  {
   "cell_type": "code",
   "execution_count": null,
   "metadata": {},
   "outputs": [],
   "source": [
    "num_list = [6, 10, 87, 10, 44, 2]\n",
    "\n",
    "max_num = 1000\n",
    "for num in num_list:\n",
    "    if num > max_num\n",
    "        max_num = num\n",
    "        \n",
    "print (max_num)\n",
    "        "
   ]
  },
  {
   "cell_type": "markdown",
   "metadata": {},
   "source": [
    "## Is this number Prime?\n",
    "\n",
    "A prime number is a number that is only divisible by itself and 1. The following code should decide if a number given by the `num` variable is prime or not. Fix the errors so that it does!"
   ]
  },
  {
   "cell_type": "code",
   "execution_count": null,
   "metadata": {},
   "outputs": [],
   "source": [
    "num = 29\n",
    "flag = True\n",
    "\n",
    "# only check numbers greater than 1\n",
    "if num > 1:\n",
    "    \n",
    "    # loop over all factors\n",
    "    for i in range(2, num:\n",
    "        \n",
    "        # is this a factor?\n",
    "        if (num % i) = 0:\n",
    "            \n",
    "            # if so, break out\n",
    "            flag = True\n",
    "            break\n",
    "\n",
    "# check if flag is True\n",
    "if flag:\n",
    "    print(num, \"is not a prime number\")\n",
    "else:\n",
    "    print(num, \"is a prime number\")"
   ]
  },
  {
   "cell_type": "markdown",
   "metadata": {},
   "source": [
    "## Adding Two Lists Together\n",
    "\n",
    "The code below should add the two lists `X` and `Y` together and compare to a known result `Z`. Fix the syntax errors and find the other bugs that are stopping it from working correctly."
   ]
  },
  {
   "cell_type": "code",
   "execution_count": null,
   "metadata": {},
   "outputs": [],
   "source": [
    "X = [3, 6, 9, 12, 15, 18, 21]  # X list\n",
    "X = [2, 4, 6, 8, 10, 12, 14]   # Y list\n",
    "result = [0, 0, 0, 0]\n",
    "\n",
    "for i in range(4):\n",
    "    result[j] = X[i] + Y[i]\n",
    "\n",
    "Z = [5, 10, 15, 20, 25, 30, 35]\n",
    "flag = False\n",
    "for i in range(len(Z)):\n",
    "    if Z[i] != result[i]:\n",
    "        print(\"Problem in Analaysis!\")\n",
    "        flag = True\n",
    "\n",
    "if not flag:\n",
    "    print(\"Analysis was OK!\")"
   ]
  },
  {
   "cell_type": "markdown",
   "metadata": {},
   "source": [
    "## Finding Substrings in a String\n",
    "\n",
    "The code below should search for 5 words in a string and print out the index in a string where the word was found with some surrounding text. If the word isn't found, a message should be printed. Fix the bugs so the messages get displayed correctly."
   ]
  },
  {
   "cell_type": "code",
   "execution_count": null,
   "metadata": {},
   "outputs": [],
   "source": [
    "main_string = \"The quick brown fox jumped over the lazy dog\"\n",
    "search_strings = ['quick', 'jump', 'The', 'cat', 'dog']\n",
    "\n",
    "for search_str in main_string:\n",
    "    index = main_string.find(search_str)\n",
    "    if index != 0:\n",
    "        print(\"Substring '\" + search_str + \"' found at index\", index)\n",
    "        text_nearby = main_string[index - 4:index + len(search_str) + 4]\n",
    "        print(\"   Surrounding text was '\" + text_nearby + \"'\\n\")\n",
    "    else:\n",
    "        print(\"Substring '\" + search_str + \"' wasn't found.\\n\")"
   ]
  },
  {
   "cell_type": "markdown",
   "metadata": {},
   "source": [
    "This activity has covered a few of the many, many ways that bugs can crop up in your code. Hopefully you've started getting some experience how to go about analysing what's happening in the code and then fixing any problems you encounter."
   ]
  }
 ],
 "metadata": {
  "kernelspec": {
   "display_name": "Python 3",
   "language": "python",
   "name": "python3"
  },
  "language_info": {
   "codemirror_mode": {
    "name": "ipython",
    "version": 3
   },
   "file_extension": ".py",
   "mimetype": "text/x-python",
   "name": "python",
   "nbconvert_exporter": "python",
   "pygments_lexer": "ipython3",
   "version": "3.8.7"
  }
 },
 "nbformat": 4,
 "nbformat_minor": 4
}
