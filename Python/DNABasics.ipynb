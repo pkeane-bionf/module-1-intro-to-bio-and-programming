{
 "cells": [
  {
   "cell_type": "markdown",
   "metadata": {},
   "source": [
    "# Practical Activity: DNA Strings\n",
    "\n",
    "This notebook is designed to reinforce the concepts introduced in Unit 1 of the Introduction to Biology and Programming course and also give you some experience of using Python to solve biological problems with minimal guidance. \n",
    "\n",
    "Please work through the material presented here and add code in to the cells as indicated. There are cells you can use to check your answers throughout. Also note that, as with all programming, there are many solutions to these problems but as long as your code works and is readable, that's good enough!"
   ]
  },
  {
   "cell_type": "markdown",
   "metadata": {},
   "source": [
    "## Initial Setup\n",
    "\n",
    "Before you start working through the exercises below, please make sure you run the Python cell below that will set up everything you will need. This code will provide access to the following functions:\n",
    "\n",
    "* `dna1`, `dna2`, `dna3`: These functions take no arguments and return 3 different DNA sequences\n",
    "* `generate_dna_sequence(...)`: This function takes an integer and returns a random DNA string with this number of bases\n",
    "* `dna_analyser_v1(...)`: Version 1 of a DNA analyser function that takes a DNA string and performs some analysis\n",
    "* `dna_analyser_v2(...)`: Version 2 of a DNA analyser function that takes a DNA string and performs some analysis\n",
    "* `get_time()`: Returns the current number of seconds after an arbitrary point (1st Jan, 1970 if you're interested!)\n",
    "* `dna_experiment_output()`: Produces some DNA data as if produced by an experiment.\n"
   ]
  },
  {
   "cell_type": "code",
   "execution_count": null,
   "metadata": {},
   "outputs": [],
   "source": [
    "from unit_1_library import *"
   ]
  },
  {
   "cell_type": "markdown",
   "metadata": {},
   "source": [
    "## Exercise 1:  Manipulating DNA Strings\n",
    "\n",
    "DNA consists of sequences of four bases represented by the letters A, C, G and T. In Python, this is most easily represented by a string of these letters. This first exercise is going to get you to use external functions and string manipulation routines to do some analysis on some DNA strings. Note that at the moment you'll need to use some copy and paste of the code but don't worry - we'll learn techniques to avoid that later in the course!\n",
    "\n",
    "Can you:\n",
    "\n",
    "* Create 3 variables that contain the DNA strings returned by the functions `dna1`, `dna2` and `dna3`\n",
    "* Find the length of all the sequences\n",
    "* Combine the shortest two sequences into a new sequence\n",
    "* Find the number of each type of base in the longest sequence\n",
    "* One of the DNA strings is included in one of the others. Find the base number (index) where this sub-sequence occurs\n",
    "\n",
    "After this, please fill in the cell underneath with the answers and run it to check if you've got it right!\n",
    "\n",
    "### Important Info\n",
    "* To find the length of a string or collection, use the `len()` function, e.g.:\n",
    "```\n",
    "In [1]: len(\"test\")\n",
    "Out[1]: 4\n",
    "```\n",
    "* To combine strings you can just add them together:\n",
    "```\n",
    "In [1]: \"abc\" + \"def\"\n",
    "Out[1]: 'abcdef'\n",
    "```\n",
    "* You can find the number of times a character or substring occurs in a string using `string.count(...)`, e.g.\n",
    "```\n",
    "In [1]: mystr = \"my testing string\"\n",
    "In [2]: mystr.count(\"i\")\n",
    "Out[2]: 2\n",
    "```\n",
    "* To find the index a substring occurs in another string use `string.find(...)`, e.g.\n",
    "```\n",
    "In [1]: mystr = \"my testing string\"\n",
    "In [2]: mystr.find(\"ing\")\n",
    "Out[2]: 7\n",
    "```\n",
    "\n",
    "There is more information about the routines provided by the string type here:\n",
    "\n",
    "https://docs.python.org/3/library/stdtypes.html#string-methods\n"
   ]
  },
  {
   "cell_type": "code",
   "execution_count": null,
   "metadata": {},
   "outputs": [],
   "source": []
  },
  {
   "cell_type": "code",
   "execution_count": null,
   "metadata": {},
   "outputs": [],
   "source": [
    "len_dna1 = \n",
    "len_dna2 = \n",
    "len_dna3 = \n",
    "\n",
    "combined_sequence = \n",
    "\n",
    "num_A = \n",
    "num_C = \n",
    "num_G = \n",
    "num_T = \n",
    "\n",
    "base_pos = \n",
    "\n",
    "check_answers_l4_ex1(globals())"
   ]
  },
  {
   "cell_type": "markdown",
   "metadata": {},
   "source": [
    "## Exercise 2:  Processing a large DNA string\n",
    "\n",
    "We're now going to move on to looking at large DNA sequences and how that can affect how you might do some of your processing. You will find that as you scale up to larger datasets, you may start hitting efficiency problems or your chosen algorithm doesn't work as well as it did with smaller datasets. It's good to approach these kinds of issues in a systematic way to find out where the bottlenecks are. You then know where to concentrate on optimising the code or the algorithm.\n",
    "\n",
    "Can you:\n",
    "\n",
    "* Use the given function `generate_dna_sequence(...)` to generate a random DNA string that contains 5 million bases and store it in a variable. Don't print this out as it will be very large!\n",
    "* Call functions `dna_analyser_v1(...)` and `dna_analyser_v2(...)` with this generated DNA variable in turn and check they give the same answers\n",
    "* You may have noticed that one takes longer than the other. Using the `get_time()` function, use variables to record the time before and after each call to the analyser functions and see how long each one takes. Don't include the time it takes to generate the DNA sequence!\n",
    "\n",
    "After this, please fill in the cell underneath with the answers and run it to check if you've got it right!"
   ]
  },
  {
   "cell_type": "code",
   "execution_count": null,
   "metadata": {},
   "outputs": [],
   "source": []
  },
  {
   "cell_type": "code",
   "execution_count": null,
   "metadata": {},
   "outputs": [],
   "source": [
    "time_v1 = \n",
    "time_v2 = \n",
    "\n",
    "check_answers_l4_ex2(globals())"
   ]
  },
  {
   "cell_type": "markdown",
   "metadata": {},
   "source": [
    "## Exercise 3:  Filtering data\n",
    "\n",
    "Quite often, you will have output from a program or function that has the information you want but amongst other output that you don't want. In these cases you will have to prepare or filter out the information you need before moving on to the next stage of your analysis. This exercise looks at an example of this kind of filtering.\n",
    "\n",
    "Can you:\n",
    "\n",
    "* Store the output from the function `dna_experiment_output()` in a variable\n",
    "* Look at this data and see what issues there are with it - you are wanting a continuous DNA string with no newlines or other characters\n",
    "* Use `string` functions to fix the DNA data (don't forget the new line characters '\\n' and spaces ' ')\n",
    "* Check this works by passing it through the `dna_analyser_v1(...)` function (NOT the v2 function as this won't check the input DNA sequence!)\n",
    "\n",
    "### Important Info\n",
    "* To replace a part of a string, use the `string.replace(...)` function, e.g.:\n",
    "```\n",
    "In [1]: mystr = \"my testing string\"\n",
    "In [2]: mystr.replace(\"testing\", \"new\")\n",
    "Out[2]: 'my new string'\n",
    "```\n",
    "* To remove a substring from a string you can just `replace` it with an empty string (`\"\"`)\n",
    "\n",
    "Again, you may want to look at this page for more info:\n",
    "\n",
    "https://docs.python.org/3/library/stdtypes.html#string-methods\n"
   ]
  },
  {
   "cell_type": "code",
   "execution_count": null,
   "metadata": {},
   "outputs": [],
   "source": []
  },
  {
   "cell_type": "markdown",
   "metadata": {},
   "source": [
    "Hopefully this has given you some more hands on experience with Python and allowed you to start solving problems using Python and coding. We will be building on what you've done here over the next few weeks!"
   ]
  }
 ],
 "metadata": {
  "kernelspec": {
   "display_name": "Python 3",
   "language": "python",
   "name": "python3"
  },
  "language_info": {
   "codemirror_mode": {
    "name": "ipython",
    "version": 3
   },
   "file_extension": ".py",
   "mimetype": "text/x-python",
   "name": "python",
   "nbconvert_exporter": "python",
   "pygments_lexer": "ipython3",
   "version": "3.8.12"
  }
 },
 "nbformat": 4,
 "nbformat_minor": 4
}
