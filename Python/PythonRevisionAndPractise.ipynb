{
 "cells": [
  {
   "cell_type": "markdown",
   "id": "39cd0dd7",
   "metadata": {},
   "source": [
    "# Additional Activity: Revision and Practice of Python Concepts\n",
    "\n",
    "This notebook is designed to be used for extra practice and revision of the key Python concepts that are covered in the course. As in the course, things increase in difficulty but note that there are **no** new concepts or material here - everything is covered in the course and has been used multiple times in the previous notebooks.\n",
    "\n",
    "As with the other notebooks for the activities, you should tackle each of the comments in turn and write, **at most** 1-3 lines of code. Check they work and then move on."
   ]
  },
  {
   "cell_type": "markdown",
   "id": "d74d534a",
   "metadata": {},
   "source": [
    "### Important Info\n",
    "* You can add elements to a dictionary by just specifying the key:\n",
    "```\n",
    "mydict['a'] = 6\n",
    "```\n",
    "* The `len()` function will return the length of the given collection\n",
    "```\n",
    "str_length = len(mystr)\n",
    "```\n"
   ]
  },
  {
   "cell_type": "code",
   "execution_count": null,
   "id": "0b898500",
   "metadata": {},
   "outputs": [],
   "source": [
    "# ----------\n",
    "# Create a blank dictionary\n",
    "\n",
    "# Add the key/value pairs:  \"AAA\" -> 343, \"BAB\" -> 551\n",
    "\n",
    "# Find the length of this dictionary\n",
    "\n",
    "# Create a list with entries 4, 7, 9, 1\n",
    "\n",
    "# Find the length of this list\n",
    "\n",
    "# Compare the length of the list and dictionary and print a message to say which is longer"
   ]
  },
  {
   "cell_type": "markdown",
   "id": "0732bcdc",
   "metadata": {},
   "source": [
    "### Important Info\n",
    "* To loop over the elements in a list, use a `for` loop:\n",
    "```\n",
    "for ele in mylist:\n",
    "    print(ele)\n",
    "```"
   ]
  },
  {
   "cell_type": "code",
   "execution_count": null,
   "id": "146b4614",
   "metadata": {},
   "outputs": [],
   "source": [
    "# ----------\n",
    "# Create a variable called 'num_values' and set it equal to 0\n",
    "\n",
    "# Write a 'for' loop that iterates over each element of the list created above\n",
    "\n",
    "    # Using 'if', is this element less then 8?\n",
    "        # if it is, increment that 'num_values' variable\n",
    "\n",
    "# print the 'num_values' variable\n"
   ]
  },
  {
   "cell_type": "markdown",
   "id": "048fcb45",
   "metadata": {},
   "source": [
    "### Important Info\n",
    "* To split a string into a list of lines, use the `string.split(...)` function with a new line character (`'\\n'`):\n",
    "```\n",
    "In [1]: mystr = \"\"\"\n",
    "   ...: line 1\n",
    "   ...: line 2\n",
    "   ...: line 3\n",
    "   ...: \"\"\"\n",
    "In [2]: mystr\n",
    "Out[2]: '\\nline 1\\nline 2\\nline 3\\n'\n",
    "In [3]: mystr.split('\\n')\n",
    "Out[3]: ['', 'line 1', 'line 2', 'line 3', '']\n",
    "```\n",
    "\n",
    "* To split a string into a list of words/columns, use the `string.split(...)` function with **no arguments**:\n",
    "```\n",
    "In [1]: mystr = \"test1 test2 test3 test3\"\n",
    "In [2]: mystr.split()\n",
    "Out[2]: ['test1', 'test2', 'test3', 'test3']\n",
    "```\n"
   ]
  },
  {
   "cell_type": "code",
   "execution_count": null,
   "id": "96b7e1b4",
   "metadata": {},
   "outputs": [],
   "source": [
    "# ----------\n",
    "mytext = \"\"\"4   HHH    test1\n",
    "8   DAS    test5\n",
    "10   ASH    test3\n",
    "11   LLL    test8\n",
    "\"\"\"\n",
    "\n",
    "# split this string variable 'mytext' into a list of lines and store in a variable called 'mylines'\n",
    "\n",
    "# create an empty dictionary variable called 'myoutdict'\n",
    "\n",
    "# Write a 'for' loop to iterate over the lines from above\n",
    "for myline in mylines:\n",
    "    \n",
    "    # split each line into columns\n",
    "    mycols = myline.split()\n",
    "    \n",
    "    # Add a new entry to the 'myoutdict' dictionary with the key as column 2 and the value being a list of columns 0 and 1\n",
    "    "
   ]
  },
  {
   "cell_type": "markdown",
   "id": "951e52dc",
   "metadata": {},
   "source": [
    "### Important Info\n",
    "* To have a 'for' loop iterate from one number up to another, use the `range` function:\n",
    "```\n",
    "for val in range(0, 10):\n",
    "    print(val)\n",
    "```\n",
    "* You can use the `string.find` function to see if a string contains another string. If the result is `-1` it doesn't:\n",
    "```\n",
    "mystr = \"HELLO WORLD\"\n",
    "if mystr.find('Z') == -1:\n",
    "    print(\"mystr doesn't contain 'Z'\")\n",
    "```\n",
    "* Don't overcomplicate things - you don't need to use anything special for the alphabet. Just type it out and store it in a string or list. Note that we're only focusing on upper case letters here."
   ]
  },
  {
   "cell_type": "code",
   "execution_count": null,
   "id": "c74c9ac8",
   "metadata": {},
   "outputs": [],
   "source": [
    "# ----------\n",
    "# Create a variable called 'mystr1' and set it to 'OSAJCHEWFGPJDSFPIAJSFD=SU'\n",
    "\n",
    "# Create a variable called 'mystr2' and set it to 'OSAJCHEWFLPJDSFPIAJSFD=SU' (note they are different!)\n",
    "\n",
    "# Create two variables called 'bad_char_idx' and 'diff_char_idx' and set them both to -1\n",
    "\n",
    "# Write a 'for' loop with a loop variable that iterates from 0 to the length of mystr1\n",
    "\n",
    "    # Using the loop variable as the index, check the current character to see if it's not in the alphabet\n",
    "    \n",
    "        # if so, set 'bad_char_idx' to this index and break out of the loop\n",
    "        \n",
    "    # Again, using the loop variable as the index, compare the characters at this position between mystr1 and mystr2\n",
    "    \n",
    "        # If they are different, set 'diff_char_idx' to this index\n",
    "        \n",
    "# print out your values for 'bad_char_idx' and 'diff_char_idx'"
   ]
  }
 ],
 "metadata": {
  "kernelspec": {
   "display_name": "Python 3",
   "language": "python",
   "name": "python3"
  },
  "language_info": {
   "codemirror_mode": {
    "name": "ipython",
    "version": 3
   },
   "file_extension": ".py",
   "mimetype": "text/x-python",
   "name": "python",
   "nbconvert_exporter": "python",
   "pygments_lexer": "ipython3",
   "version": "3.8.2"
  }
 },
 "nbformat": 4,
 "nbformat_minor": 5
}
