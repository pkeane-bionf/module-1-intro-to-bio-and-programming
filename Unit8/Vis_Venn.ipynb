{
 "cells": [
  {
   "cell_type": "markdown",
   "metadata": {},
   "source": [
    "# Python Notebook to Create Venn Diagrams\n",
    "\n",
    "This notebook is designed to highlight the concepts of Unit 8 of the Introduction to Biology and Programming module - specifically, showing how you can complete the same task using two different languages. \n",
    "\n",
    "By working through this notebook, you will see how to have Python load `csv` data into a dataframe and then plot a Venn Diagram of it. You can then compare this with doing the same task in `R` to highlight the differences and similarities between the two languages."
   ]
  },
  {
   "cell_type": "markdown",
   "metadata": {},
   "source": [
    "## Installing the Required Modules\n",
    "\n",
    "The first thing we need to do is install the modules we will be using. These modules are:\n",
    "\n",
    " * `pandas` - This provides a lot of Data Analysis functions and objects. For this notebook we will be using the `DataFrame` objects that are essentially the same as the `R` data frames you've already met\n",
    " * `venn` - This is an extension to the `matplotlib` library that will actually plot the Venn Diagrams. Most plotting tasks in Python can be carried out using the `matplotlib` module alone, but not Venn diagrams unfortunately.\n",
    " \n",
    "To install the two required modules, we'll use the shell-based `pip` command with the exclamation mark (`!`) to indicate it should be run through the shell rather than in Python:"
   ]
  },
  {
   "cell_type": "code",
   "execution_count": null,
   "metadata": {},
   "outputs": [],
   "source": [
    "!pip3 install --user pandas\n",
    "!pip3 install --user venn"
   ]
  },
  {
   "cell_type": "markdown",
   "metadata": {},
   "source": [
    "To check this install has worked, try importing the two modules:"
   ]
  },
  {
   "cell_type": "code",
   "execution_count": null,
   "metadata": {},
   "outputs": [],
   "source": [
    "import pandas\n",
    "import venn"
   ]
  },
  {
   "cell_type": "markdown",
   "metadata": {},
   "source": [
    "If you get an error from these `import` statements, please try restarting the kernel (from the menu, `Kernel -> Restart Kernel`) as this will make sure it is checking for modules in your user area."
   ]
  },
  {
   "cell_type": "markdown",
   "metadata": {},
   "source": [
    "## Reading in the Data\n",
    "\n",
    "We now have the modules installed and working, we can load in the data. One of the helpful functions `pandas` provides is the `read_csv` function. This will load in the `csv` data we want and create a DataFrame object from it:"
   ]
  },
  {
   "cell_type": "code",
   "execution_count": null,
   "metadata": {},
   "outputs": [],
   "source": [
    "gene_list = pandas.read_csv('venn_gene_list.csv')"
   ]
  },
  {
   "cell_type": "markdown",
   "metadata": {},
   "source": [
    "To check the load worked correctly, we'll print the new variable:"
   ]
  },
  {
   "cell_type": "code",
   "execution_count": null,
   "metadata": {},
   "outputs": [],
   "source": [
    "print(gene_list)"
   ]
  },
  {
   "cell_type": "markdown",
   "metadata": {},
   "source": [
    "As you can see, we now have the DataFrame loaded and we can move on to plotting the Venn diagram!"
   ]
  },
  {
   "cell_type": "markdown",
   "metadata": {},
   "source": [
    "## Plotting the Venn Diagrams\n",
    "\n",
    "The `venn(...)` function that we're going to use to plot the Venn Diagrams needs the data supplied to it in a particular format. It must be a dictionary of `set`s. Sets are *unordered*, *unindexed* and *immutable* and can *never be duplicate entries*. These objects are actually an implementation of the Mathematical concept of a Set, including all the appropriate logic that goes with them.\n",
    "\n",
    "The technical aspects of this aren't important in this context though. All you need to know is they are another type of collection and you can create a `set` by just calling the `set` function. For this case, we will need to create a `set` for each of the columns in the dataset and then create a dictionary that gives each of these sets a label. For a basic 2 set diagram, the following creates the dictionary that's needed:"
   ]
  },
  {
   "cell_type": "code",
   "execution_count": null,
   "metadata": {},
   "outputs": [],
   "source": [
    "venn_dict = {'Var A': set(gene_list['A']), 'Var B': set(gene_list['B'])}"
   ]
  },
  {
   "cell_type": "markdown",
   "metadata": {},
   "source": [
    "We can now plot the Venn diagram from this data by simply calling the `venn(..)` function with this dictionary, though we do need to tell `matplotlib` to print too :"
   ]
  },
  {
   "cell_type": "code",
   "execution_count": null,
   "metadata": {},
   "outputs": [],
   "source": [
    "%matplotlib inline\n",
    "venn.venn(venn_dict)\n"
   ]
  },
  {
   "cell_type": "markdown",
   "metadata": {},
   "source": [
    "To create Venn diagrams with three sets, we just change the dictionary:"
   ]
  },
  {
   "cell_type": "code",
   "execution_count": null,
   "metadata": {},
   "outputs": [],
   "source": [
    "venn_dict = {'Var A': set(gene_list['A']), \n",
    "             'Var B': set(gene_list['B']), \n",
    "             'Var C': set(gene_list['C'])}\n",
    "\n",
    "venn.venn(venn_dict)"
   ]
  },
  {
   "cell_type": "markdown",
   "metadata": {},
   "source": [
    "And finally, with four sets:"
   ]
  },
  {
   "cell_type": "code",
   "execution_count": null,
   "metadata": {},
   "outputs": [],
   "source": [
    "venn_dict = {'Var A': set(gene_list['A']), \n",
    "             'Var B': set(gene_list['B']), \n",
    "             'Var C': set(gene_list['C']),\n",
    "             'Var D': set(gene_list['D'])}\n",
    "\n",
    "venn.venn(venn_dict)"
   ]
  },
  {
   "cell_type": "markdown",
   "metadata": {},
   "source": [
    "## Customising Venn Diagrams\n",
    "\n",
    "You can also customise your Venn diagrams by changing the transparency (or `alpha`) of the image, the format of the labels on each petal and the colours you want to use. For example:\n"
   ]
  },
  {
   "cell_type": "code",
   "execution_count": null,
   "metadata": {},
   "outputs": [],
   "source": [
    "venn.venn(venn_dict, alpha = 0.2, fmt=\"{percentage:.1f}%\", \n",
    "          cmap = [\"xkcd:violet\", \"xkcd:aquamarine\", \"xkcd:goldenrod\", \"xkcd:azure\"])"
   ]
  },
  {
   "cell_type": "markdown",
   "metadata": {},
   "source": [
    "More information about the modules used in this notebook can be found here:\n",
    "\n",
    "* [pandas](https://pandas.pydata.org/)\n",
    "* [venn](https://github.com/LankyCyril/pyvenn)\n",
    "* [matplotlib](https://matplotlib.org/)\n"
   ]
  },
  {
   "cell_type": "code",
   "execution_count": null,
   "metadata": {},
   "outputs": [],
   "source": []
  }
 ],
 "metadata": {
  "kernelspec": {
   "display_name": "Python 3",
   "language": "python",
   "name": "python3"
  },
  "language_info": {
   "codemirror_mode": {
    "name": "ipython",
    "version": 3
   },
   "file_extension": ".py",
   "mimetype": "text/x-python",
   "name": "python",
   "nbconvert_exporter": "python",
   "pygments_lexer": "ipython3",
   "version": "3.8.2"
  }
 },
 "nbformat": 4,
 "nbformat_minor": 4
}
